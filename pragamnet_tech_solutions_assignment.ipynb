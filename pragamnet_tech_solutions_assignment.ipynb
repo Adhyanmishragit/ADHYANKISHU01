{
  "nbformat": 4,
  "nbformat_minor": 0,
  "metadata": {
    "colab": {
      "provenance": [],
      "authorship_tag": "ABX9TyNmHlvqoM+Wr6L0+la6rbm5",
      "include_colab_link": true
    },
    "kernelspec": {
      "name": "python3",
      "display_name": "Python 3"
    },
    "language_info": {
      "name": "python"
    }
  },
  "cells": [
    {
      "cell_type": "markdown",
      "metadata": {
        "id": "view-in-github",
        "colab_type": "text"
      },
      "source": [
        "<a href=\"https://colab.research.google.com/github/Adhyanmishragit/ADHYANKISHU01/blob/main/pragamnet_tech_solutions_assignment.ipynb\" target=\"_parent\"><img src=\"https://colab.research.google.com/assets/colab-badge.svg\" alt=\"Open In Colab\"/></a>"
      ]
    },
    {
      "cell_type": "code",
      "source": [
        "!pip install pillow pytesseract\n"
      ],
      "metadata": {
        "colab": {
          "base_uri": "https://localhost:8080/"
        },
        "id": "5rtRa0OmV3xJ",
        "outputId": "1a2e0cb5-2968-439f-e88f-f316cf7169e5"
      },
      "execution_count": 5,
      "outputs": [
        {
          "output_type": "stream",
          "name": "stdout",
          "text": [
            "Requirement already satisfied: pillow in /usr/local/lib/python3.10/dist-packages (9.4.0)\n",
            "Collecting pytesseract\n",
            "  Downloading pytesseract-0.3.10-py3-none-any.whl (14 kB)\n",
            "Requirement already satisfied: packaging>=21.3 in /usr/local/lib/python3.10/dist-packages (from pytesseract) (23.1)\n",
            "Installing collected packages: pytesseract\n",
            "Successfully installed pytesseract-0.3.10\n"
          ]
        }
      ]
    },
    {
      "cell_type": "code",
      "source": [
        "!apt-get install -y tesseract-ocr\n"
      ],
      "metadata": {
        "colab": {
          "base_uri": "https://localhost:8080/"
        },
        "id": "a-xaeQQGXFLF",
        "outputId": "3ddafe85-334c-4b9a-d3ff-e19a2fbc3462"
      },
      "execution_count": 11,
      "outputs": [
        {
          "output_type": "stream",
          "name": "stdout",
          "text": [
            "Reading package lists... Done\n",
            "Building dependency tree... Done\n",
            "Reading state information... Done\n",
            "The following additional packages will be installed:\n",
            "  tesseract-ocr-eng tesseract-ocr-osd\n",
            "The following NEW packages will be installed:\n",
            "  tesseract-ocr tesseract-ocr-eng tesseract-ocr-osd\n",
            "0 upgraded, 3 newly installed, 0 to remove and 16 not upgraded.\n",
            "Need to get 4,816 kB of archives.\n",
            "After this operation, 15.6 MB of additional disk space will be used.\n",
            "Get:1 http://archive.ubuntu.com/ubuntu jammy/universe amd64 tesseract-ocr-eng all 1:4.00~git30-7274cfa-1.1 [1,591 kB]\n",
            "Get:2 http://archive.ubuntu.com/ubuntu jammy/universe amd64 tesseract-ocr-osd all 1:4.00~git30-7274cfa-1.1 [2,990 kB]\n",
            "Get:3 http://archive.ubuntu.com/ubuntu jammy/universe amd64 tesseract-ocr amd64 4.1.1-2.1build1 [236 kB]\n",
            "Fetched 4,816 kB in 1s (4,808 kB/s)\n",
            "Selecting previously unselected package tesseract-ocr-eng.\n",
            "(Reading database ... 120831 files and directories currently installed.)\n",
            "Preparing to unpack .../tesseract-ocr-eng_1%3a4.00~git30-7274cfa-1.1_all.deb ...\n",
            "Unpacking tesseract-ocr-eng (1:4.00~git30-7274cfa-1.1) ...\n",
            "Selecting previously unselected package tesseract-ocr-osd.\n",
            "Preparing to unpack .../tesseract-ocr-osd_1%3a4.00~git30-7274cfa-1.1_all.deb ...\n",
            "Unpacking tesseract-ocr-osd (1:4.00~git30-7274cfa-1.1) ...\n",
            "Selecting previously unselected package tesseract-ocr.\n",
            "Preparing to unpack .../tesseract-ocr_4.1.1-2.1build1_amd64.deb ...\n",
            "Unpacking tesseract-ocr (4.1.1-2.1build1) ...\n",
            "Setting up tesseract-ocr-eng (1:4.00~git30-7274cfa-1.1) ...\n",
            "Setting up tesseract-ocr-osd (1:4.00~git30-7274cfa-1.1) ...\n",
            "Setting up tesseract-ocr (4.1.1-2.1build1) ...\n",
            "Processing triggers for man-db (2.10.2-1) ...\n"
          ]
        }
      ]
    },
    {
      "cell_type": "code",
      "source": [
        "import pytesseract\n",
        "from PIL import Image\n"
      ],
      "metadata": {
        "id": "91JXxn3VXTA1"
      },
      "execution_count": 12,
      "outputs": []
    },
    {
      "cell_type": "code",
      "source": [
        "image_path = \"/content/empty sheet.jpg\"\n",
        "image = Image.open(image_path)\n",
        "text = pytesseract.image_to_string(image)\n",
        "\n",
        "print(text)\n"
      ],
      "metadata": {
        "colab": {
          "base_uri": "https://localhost:8080/"
        },
        "id": "ifkJ72bhXanA",
        "outputId": "9654f0d9-f454-4e78-ae34-3acf95063bd1"
      },
      "execution_count": 16,
      "outputs": [
        {
          "output_type": "stream",
          "name": "stdout",
          "text": [
            "Fill\n",
            "\n",
            " \n",
            "\n",
            "in the blanks\n",
            "\n",
            ". Elon Musk tweeted that his electric vehicle-making company\n",
            "Tesla will not accept payments in because of\n",
            "environmental concerns.\n",
            "After Elon Musk's tweet about Tesla's decision, the\n",
            "hit a two-month low.\n",
            ". Elon Musk stated that he was working with developers of\n",
            "to improve system transaction efficiency.\n",
            "Following Musk's tweet, rallied by about 20 percent.\n",
            ". In a recent tweet, Elon Musk mentioned that Tesla was\n",
            "concerned about the rapidly increasing use of fossil fuels for\n",
            "mining and transaction.\n",
            "Elon Musk's tweet caused a for Bitcoin value.\n",
            ". The cryptocurrency has since the downward spiral\n",
            "triggered by Elon Musk's tweet.\n",
            "Anumber of welcomed Musk’s statement.\n",
            ". One Twitter user stated that it's time people started realising\n",
            "that is here to stay.\n",
            "10. Another Twitter user referred to Musk's previous assertion\n",
            "that crypto could become the world's future\n",
            "11. Elon Musk is known for often tweeting in support of\n",
            "\n",
            "ye\n",
            "\n",
            "&\n",
            "\n",
            " \n",
            "\n",
            "oe\n",
            "\n",
            "Se\n",
            "\n",
            "2\n",
            "\n",
            " \n",
            "\n",
            "©\n",
            "\n",
            "12. Elon Musk has shown he can influence the digital\n",
            "currency market with just his\n",
            "13. Musk emphasized in a tweet that he strongly believes in\n",
            "\n",
            " \n",
            "\n",
            "14. Elon Musk mentioned in a tweet that crypto can't drive a\n",
            "massive increase in fossil fuel use, especially\n",
            "\n",
            "15. Elon Musk announced in a tweet that Tesla was\n",
            "suspending vehicle purchases using\n",
            "\f\n"
          ]
        }
      ]
    }
  ]
}